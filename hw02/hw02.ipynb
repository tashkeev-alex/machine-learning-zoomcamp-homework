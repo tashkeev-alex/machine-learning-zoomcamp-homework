{
 "cells": [
  {
   "cell_type": "markdown",
   "metadata": {},
   "source": [
    "There is a typo in the course notebook, namely they took 'ram' for filling null values instead of 'screen'.\n",
    "\n",
    "Also, I'm doing log-exponentiate procedure of the target + I do not regularize the intercept."
   ]
  },
  {
   "cell_type": "code",
   "execution_count": 1,
   "metadata": {},
   "outputs": [],
   "source": [
    "import pandas as pd\n",
    "import numpy as np"
   ]
  },
  {
   "cell_type": "code",
   "execution_count": 2,
   "metadata": {},
   "outputs": [
    {
     "data": {
      "text/html": [
       "<div>\n",
       "<style scoped>\n",
       "    .dataframe tbody tr th:only-of-type {\n",
       "        vertical-align: middle;\n",
       "    }\n",
       "\n",
       "    .dataframe tbody tr th {\n",
       "        vertical-align: top;\n",
       "    }\n",
       "\n",
       "    .dataframe thead th {\n",
       "        text-align: right;\n",
       "    }\n",
       "</style>\n",
       "<table border=\"1\" class=\"dataframe\">\n",
       "  <thead>\n",
       "    <tr style=\"text-align: right;\">\n",
       "      <th></th>\n",
       "      <th>ram</th>\n",
       "      <th>storage</th>\n",
       "      <th>screen</th>\n",
       "      <th>final_price</th>\n",
       "    </tr>\n",
       "  </thead>\n",
       "  <tbody>\n",
       "    <tr>\n",
       "      <th>0</th>\n",
       "      <td>8</td>\n",
       "      <td>512</td>\n",
       "      <td>15.6</td>\n",
       "      <td>1009.00</td>\n",
       "    </tr>\n",
       "    <tr>\n",
       "      <th>1</th>\n",
       "      <td>8</td>\n",
       "      <td>256</td>\n",
       "      <td>15.6</td>\n",
       "      <td>299.00</td>\n",
       "    </tr>\n",
       "    <tr>\n",
       "      <th>2</th>\n",
       "      <td>8</td>\n",
       "      <td>256</td>\n",
       "      <td>15.6</td>\n",
       "      <td>789.00</td>\n",
       "    </tr>\n",
       "    <tr>\n",
       "      <th>3</th>\n",
       "      <td>16</td>\n",
       "      <td>1000</td>\n",
       "      <td>15.6</td>\n",
       "      <td>1199.00</td>\n",
       "    </tr>\n",
       "    <tr>\n",
       "      <th>4</th>\n",
       "      <td>16</td>\n",
       "      <td>512</td>\n",
       "      <td>15.6</td>\n",
       "      <td>669.01</td>\n",
       "    </tr>\n",
       "  </tbody>\n",
       "</table>\n",
       "</div>"
      ],
      "text/plain": [
       "   ram  storage  screen  final_price\n",
       "0    8      512    15.6      1009.00\n",
       "1    8      256    15.6       299.00\n",
       "2    8      256    15.6       789.00\n",
       "3   16     1000    15.6      1199.00\n",
       "4   16      512    15.6       669.01"
      ]
     },
     "execution_count": 2,
     "metadata": {},
     "output_type": "execute_result"
    }
   ],
   "source": [
    "df = pd.read_csv(\"../hw01/laptops.csv\")\n",
    "\n",
    "df.columns = df.columns.str.lower().str.replace(\" \", \"_\")\n",
    "\n",
    "df = df[[\"ram\", \"storage\", \"screen\", \"final_price\"]]\n",
    "df.head()"
   ]
  },
  {
   "cell_type": "code",
   "execution_count": 72,
   "metadata": {},
   "outputs": [
    {
     "data": {
      "text/plain": [
       "<Axes: >"
      ]
     },
     "execution_count": 72,
     "metadata": {},
     "output_type": "execute_result"
    },
    {
     "data": {
      "image/png": "[encoded data removed]",
      "text/plain": [
       "<Figure size 640x480 with 1 Axes>"
      ]
     },
     "metadata": {},
     "output_type": "display_data"
    }
   ],
   "source": [
    "df[\"final_price\"].hist(bins=len(df) // 50)"
   ]
  },
  {
   "cell_type": "code",
   "execution_count": 149,
   "metadata": {},
   "outputs": [
    {
     "data": {
      "text/plain": [
       "<Axes: >"
      ]
     },
     "execution_count": 149,
     "metadata": {},
     "output_type": "execute_result"
    },
    {
     "data": {
      "image/png": "[encoded data removed]",
      "text/plain": [
       "<Figure size 640x480 with 1 Axes>"
      ]
     },
     "metadata": {},
     "output_type": "display_data"
    }
   ],
   "source": [
    "np.log1p(df[\"final_price\"]).hist(bins=len(df) // 50)"
   ]
  },
  {
   "cell_type": "markdown",
   "metadata": {},
   "source": [
    "Question 1"
   ]
  },
  {
   "cell_type": "code",
   "execution_count": 73,
   "metadata": {},
   "outputs": [
    {
     "data": {
      "text/plain": [
       "screen    4\n",
       "dtype: int64"
      ]
     },
     "execution_count": 73,
     "metadata": {},
     "output_type": "execute_result"
    }
   ],
   "source": [
    "n_nulls = df.isnull().sum()\n",
    "n_nulls[n_nulls != 0]"
   ]
  },
  {
   "cell_type": "markdown",
   "metadata": {},
   "source": [
    "Question 2"
   ]
  },
  {
   "cell_type": "code",
   "execution_count": 74,
   "metadata": {},
   "outputs": [
    {
     "data": {
      "text/plain": [
       "np.float64(16.0)"
      ]
     },
     "execution_count": 74,
     "metadata": {},
     "output_type": "execute_result"
    }
   ],
   "source": [
    "df[\"ram\"].median()"
   ]
  },
  {
   "cell_type": "markdown",
   "metadata": {},
   "source": [
    "Prepare and split the dataset"
   ]
  },
  {
   "cell_type": "code",
   "execution_count": 3,
   "metadata": {},
   "outputs": [],
   "source": [
    "n_val = n_test = int(len(df) * 0.2)\n",
    "n_train = len(df) - n_val - n_test"
   ]
  },
  {
   "cell_type": "code",
   "execution_count": 4,
   "metadata": {},
   "outputs": [
    {
     "data": {
      "text/plain": [
       "(1296, 432, 432)"
      ]
     },
     "execution_count": 4,
     "metadata": {},
     "output_type": "execute_result"
    }
   ],
   "source": [
    "rng = np.random.default_rng(seed=42)\n",
    "\n",
    "idx = list(df.index)\n",
    "rng.shuffle(idx)\n",
    "\n",
    "df_train = df.iloc[idx[:n_train]]\n",
    "df_val = df.iloc[idx[n_train : n_train + n_val]]\n",
    "df_test = df.iloc[idx[n_train + n_val :]]\n",
    "\n",
    "len(df_train), len(df_val), len(df_test)"
   ]
  },
  {
   "cell_type": "markdown",
   "metadata": {},
   "source": [
    "Question 3"
   ]
  },
  {
   "cell_type": "code",
   "execution_count": 69,
   "metadata": {},
   "outputs": [],
   "source": [
    "y_train = np.log1p(df_train[\"final_price\"])\n",
    "X_train = df_train.drop([\"final_price\"], axis=1)\n",
    "\n",
    "y_val = np.log1p(df_val[\"final_price\"])\n",
    "X_val = df_val.drop([\"final_price\"], axis=1)"
   ]
  },
  {
   "cell_type": "code",
   "execution_count": 123,
   "metadata": {},
   "outputs": [],
   "source": [
    "def linear_regression(X, y, r=0):\n",
    "    x_0 = np.ones(len(X))\n",
    "    X = np.column_stack([x_0, X])\n",
    "    XTX = X.T @ X\n",
    "    regularization_matrix = np.eye(len(XTX))\n",
    "    regularization_matrix[0][0] = 0  # do not regularize intercept\n",
    "    XTX = XTX + r * regularization_matrix\n",
    "    intercept, *weights = np.linalg.inv(XTX).dot(X.T).dot(y)\n",
    "\n",
    "    return intercept, weights\n",
    "\n",
    "\n",
    "def rmse(y_pred, y_test):\n",
    "    errors = y_pred - y_test\n",
    "    mse = np.pow(errors, 2).mean()\n",
    "    rmse = np.sqrt(mse)\n",
    "    return round(rmse, 2)"
   ]
  },
  {
   "cell_type": "code",
   "execution_count": 124,
   "metadata": {},
   "outputs": [
    {
     "data": {
      "text/plain": [
       "np.float64(4147.95)"
      ]
     },
     "execution_count": 124,
     "metadata": {},
     "output_type": "execute_result"
    }
   ],
   "source": [
    "# with filling by zeros\n",
    "w_0, weights = linear_regression(X_train.fillna(0), y_train)\n",
    "y_val_predicted = np.expm1(w_0 + X_val.fillna(0).dot(weights))\n",
    "\n",
    "rmse(y_val_predicted, y_val)"
   ]
  },
  {
   "cell_type": "code",
   "execution_count": 125,
   "metadata": {},
   "outputs": [
    {
     "data": {
      "text/plain": [
       "np.float64(4172.87)"
      ]
     },
     "execution_count": 125,
     "metadata": {},
     "output_type": "execute_result"
    }
   ],
   "source": [
    "# with filling by train mean\n",
    "w_0, weights = linear_regression(X_train.fillna(X_train.screen.mean()), y_train)\n",
    "y_val_predicted = np.expm1(w_0 + X_val.fillna(X_train.screen.mean()).dot(weights))\n",
    "\n",
    "rmse(y_val_predicted, y_val)"
   ]
  },
  {
   "cell_type": "markdown",
   "metadata": {},
   "source": [
    "Question 4"
   ]
  },
  {
   "cell_type": "code",
   "execution_count": 141,
   "metadata": {},
   "outputs": [
    {
     "name": "stdout",
     "output_type": "stream",
     "text": [
      "0: 4147.95\n",
      "0.01: 4147.95\n",
      "1: 4147.72\n",
      "10: 4145.57\n",
      "100: 4124.44\n"
     ]
    }
   ],
   "source": [
    "for reg_coef in (0, 0.01, 1, 10, 100):\n",
    "    w_0, weights = linear_regression(X_train.fillna(0), y_train, r=reg_coef)\n",
    "    y_val_predicted = np.expm1(w_0 + X_val.fillna(0).dot(weights))\n",
    "\n",
    "    print(f\"{reg_coef}: {rmse(y_val_predicted, y_val)}\")"
   ]
  },
  {
   "cell_type": "markdown",
   "metadata": {},
   "source": [
    "Question 5"
   ]
  },
  {
   "cell_type": "code",
   "execution_count": 168,
   "metadata": {},
   "outputs": [
    {
     "name": "stdout",
     "output_type": "stream",
     "text": [
      "0: 3259.03\n",
      "1: 1719.83\n",
      "2: 1765.09\n",
      "3: 1274.39\n",
      "4: 5039.87\n",
      "5: 2450.01\n",
      "6: 1778.84\n",
      "7: 2958.3\n",
      "8: 1807.35\n",
      "9: 1544.29\n"
     ]
    }
   ],
   "source": [
    "rmse_results = []\n",
    "\n",
    "for rng_seed in [0, 1, 2, 3, 4, 5, 6, 7, 8, 9]:\n",
    "    rng = np.random.default_rng(seed=rng_seed)\n",
    "\n",
    "    idx = list(df.index)\n",
    "    rng.shuffle(idx)\n",
    "\n",
    "    df_train = df.iloc[idx[:n_train]]\n",
    "    df_val = df.iloc[idx[n_train : n_train + n_val]]\n",
    "    df_test = df.iloc[idx[n_train + n_val :]]\n",
    "\n",
    "    y_train = np.log1p(df_train[\"final_price\"])\n",
    "    X_train = df_train.drop([\"final_price\"], axis=1)\n",
    "\n",
    "    y_val = np.log1p(df_val[\"final_price\"])\n",
    "    X_val = df_val.drop([\"final_price\"], axis=1)\n",
    "\n",
    "    w_0, weights = linear_regression(X_train.fillna(0), y_train)\n",
    "    y_val_predicted = np.expm1(w_0 + X_val.fillna(0).dot(weights))\n",
    "\n",
    "    rmse_score = rmse(y_val_predicted, y_val)\n",
    "    rmse_results.append(rmse_score)\n",
    "\n",
    "    print(f\"{rng_seed}: {rmse_score}\")"
   ]
  },
  {
   "cell_type": "code",
   "execution_count": 169,
   "metadata": {},
   "outputs": [
    {
     "data": {
      "text/plain": [
       "np.float64(1077.3513043199976)"
      ]
     },
     "execution_count": 169,
     "metadata": {},
     "output_type": "execute_result"
    }
   ],
   "source": [
    "np.array(rmse_results).std()"
   ]
  },
  {
   "cell_type": "markdown",
   "metadata": {},
   "source": [
    "Question 6"
   ]
  },
  {
   "cell_type": "code",
   "execution_count": 170,
   "metadata": {},
   "outputs": [
    {
     "data": {
      "text/plain": [
       "np.float64(1811.67)"
      ]
     },
     "execution_count": 170,
     "metadata": {},
     "output_type": "execute_result"
    }
   ],
   "source": [
    "rng = np.random.default_rng(seed=9)\n",
    "\n",
    "idx = list(df.index)\n",
    "rng.shuffle(idx)\n",
    "\n",
    "df_train = df.iloc[idx[:n_train]]\n",
    "df_val = df.iloc[idx[n_train : n_train + n_val]]\n",
    "df_test = df.iloc[idx[n_train + n_val :]]\n",
    "\n",
    "y_train = np.log1p(df_train[\"final_price\"])\n",
    "X_train = df_train.drop([\"final_price\"], axis=1)\n",
    "\n",
    "y_val = np.log1p(df_val[\"final_price\"])\n",
    "X_val = df_val.drop([\"final_price\"], axis=1)\n",
    "\n",
    "y_test = np.log1p(df_test[\"final_price\"])\n",
    "X_test = df_test.drop([\"final_price\"], axis=1)\n",
    "\n",
    "w_0, weights = linear_regression(\n",
    "    np.vstack([X_train.fillna(0), X_val.fillna(0)]),\n",
    "    np.hstack([y_train, y_val]),\n",
    "    r=0.001,\n",
    ")\n",
    "y_test_predicted = np.expm1(w_0 + X_test.fillna(0).dot(weights))\n",
    "\n",
    "rmse(y_test_predicted, y_test)"
   ]
  }
 ],
 "metadata": {
  "kernelspec": {
   "display_name": "ml-zoomcamp",
   "language": "python",
   "name": "python3"
  },
  "language_info": {
   "codemirror_mode": {
    "name": "ipython",
    "version": 3
   },
   "file_extension": ".py",
   "mimetype": "text/x-python",
   "name": "python",
   "nbconvert_exporter": "python",
   "pygments_lexer": "ipython3",
   "version": "3.13.0"
  }
 },
 "nbformat": 4,
 "nbformat_minor": 2
}
